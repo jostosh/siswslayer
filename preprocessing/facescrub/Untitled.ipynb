{
 "cells": [
  {
   "cell_type": "code",
   "execution_count": 1,
   "metadata": {},
   "outputs": [],
   "source": [
    "import sys\n",
    "sys.path.append('../../')"
   ]
  },
  {
   "cell_type": "code",
   "execution_count": 2,
   "metadata": {},
   "outputs": [],
   "source": [
    "from preprocessing.frontalizer import Frontalizer"
   ]
  },
  {
   "cell_type": "code",
   "execution_count": 29,
   "metadata": {},
   "outputs": [],
   "source": [
    "import pandas as pd\n",
    "males = pd.read_csv('/home/jos/datasets/facescrub/facescrub_actors.txt', delimiter='\\t')\n",
    "females = pd.read_csv('/home/jos/datasets/facescrub/facescrub_actresses.txt', delimiter='\\t')\n",
    "\n",
    "men = set(males['name'])\n",
    "women = set(females['name'])\n",
    "all_people = ['_'.join(p.split()) for p in set(list(men) + list(women))]"
   ]
  },
  {
   "cell_type": "code",
   "execution_count": 30,
   "metadata": {},
   "outputs": [
    {
     "name": "stdout",
     "output_type": "stream",
     "text": [
      "['Aaron_Eckhart', 'Adam_Brody', 'Adam_McKay', 'Adam_Sandler', 'Adrianne_León', 'Adrien_Brody', 'Adrienne_Barbeau', 'Adrienne_Frantz', 'Aisha_Hinds', 'Al_Pacino', 'Alan_Alda', 'Alan_Arkin', 'Alan_Rickman', 'Alec_Baldwin', 'Alexander_Skarsgård', 'Alfred_Molina', 'Alice_Krige', 'Alley_Mills', 'Allison_Janney', 'Alyson_Hannigan', 'Alyssa_Milano', 'Amanda_Bearse', 'Amaury_Nolasco', 'America_Ferrera', 'Amy_Davidson', 'Andrea_Anders', 'Andrea_Bogart', 'Andrea_Bowen', 'Andy_Garcia', 'Andy_Richter', 'Andy_Serkis', 'Angell_Conwell', 'Angie_Harmon', 'Anne_Hathaway', 'Annie_Ilonzeh', 'Anthony_Hopkins', 'Anthony_Stewart_Head', 'Antonio_Banderas', 'Arnold_Schwarzenegger', 'Arnold_Vosloo', 'Ashley_Benson', 'Ashley_Johnson', 'Ashley_Jones', 'Ashton_Kutcher', 'Audra_McDonald', 'Audrey_Landers', 'Barbara_Carrera', 'Ben_Affleck', 'Ben_Kingsley', 'Ben_McKenzie', 'Ben_Stiller', 'Benicio_Del_Toro', 'Bernard_Hill', 'Bernie_Mac', 'Bill_Cosby', 'Bill_Hader', 'Bill_Murray', 'Bill_Nighy', 'Billy_Bob_Thornton', 'Billy_Boyd', 'Billy_Burke', 'Billy_Zane', 'Bobbie_Eakes', 'Bonnie_Franklin', 'Brad_Garrett', 'Brad_Pitt', 'Bradley_Cooper', 'Brendan_Fraser', 'Brianna_Brown', 'Brooke_Langton', 'Bruce_Greenwood', 'Bruce_Willis', 'Burt_Reynolds', 'Calista_Flockhart', 'Cam_Gigandet', 'Candace_Cameron_Bure', 'Candice_Bergen', 'Carey_Lowell', 'Carla_Gallo', 'Carmen_Electra', 'Caroline_Dhavernas', 'Carolyn_Hennesy', 'Cary_Elwes', 'Casey_Affleck', 'Catherine_Bell', 'Cathy_Lee_Crosby', 'Channing_Tatum', 'Charlie_Day', 'Charlie_Sheen', 'Chase_Masterson', 'Chazz_Palminteri', 'Cheryl_Hines', 'Cheryl_Ladd', 'Chris_Evans', 'Chris_Kattan', 'Chris_Klein', 'Chris_Noth', 'Chris_Rock', 'Christa_Miller', 'Christel_Khalil', 'Christian_Bale', 'Christian_Slater', 'Christina_Applegate', 'Christina_Bennett_Lind', 'Christine_Lakin', 'Christopher_Lloyd', 'Christopher_Reeve', 'Chyler_Leigh', 'Ciara_Bravo', 'Clint_Eastwood', 'Clive_Owen', 'Colin_Farrell', 'Colin_Firth', 'Colin_Hanks', 'Courteney_Cox', 'Crystal_Bernard', 'Crystal_Chappell', 'Dan_Lauria', 'Dana_Delany', 'Danica_McKellar', 'Daniel_Craig', 'Daniel_Day-Lewis', 'Daniel_Radcliffe', 'Danny_Glover', 'Danny_Masterson', 'Danny_Trejo', 'David_Boreanaz', 'David_Cross', 'David_Duchovny', 'David_Schwimmer', 'David_Wenham', 'Dean_Cain', 'Debi_Mazar', 'Debra_Messing', 'Delta_Burke', 'Denise_Crosby', 'Denzel_Washington', 'Dermot_Mulroney', 'Desmond_Harrington', 'Diahann_Carroll', 'Dianna_Agron', 'Didi_Conn', 'Diego_Luna', 'Dina_Meyer', 'Dominic_Monaghan', 'Don_Cheadle', 'Drea_de_Matteo', 'Dustin_Hoffman', 'Dwayne_Johnson', 'Ed_Harris', 'Edi_Gathegi', 'Edie_Falco', 'Eileen_Davidson', 'Elijah_Wood', 'Eliza_Coupe', 'Eliza_Dushku', 'Elizabeth_Berkley', 'Elizabeth_Hendrickson', 'Ellen_DeGeneres', 'Ellen_Greene', 'Emile_Hirsch', 'Emily_Deschanel', 'Eric_Dane', 'Erin_Chambers', 'Erin_Cummings', 'Ethan_Hawke', 'Eva_Longoria', 'Ewan_McGregor', 'Faith_Ford', 'Farah_Fath', 'Farrah_Fawcett', 'Felicity_Huffman', 'Florencia_Lozano', 'Fran_Drescher', 'Frances_Fisher', 'Freddy_Prinze_Jr.', 'Freddy_Rodríguez', 'Gabriel_Macht', 'Gabrielle_Carteris', 'Gary_Dourdan', 'Gary_Oldman', 'Gates_McFadden', 'Geena_Davis', 'Gene_Hackman', 'Geoffrey_Rush', 'George_Clooney', 'George_Lopez', 'Gerard_Butler', 'Gillian_Anderson', 'Giovanni_Ribisi', 'Glenn_Close', 'Hal_Holbrook', 'Hank_Azaria', 'Harrison_Ford', 'Harry_Connick_Jr.', 'Hayden_Christensen', 'Heath_Ledger', 'Heather_Locklear', 'Hector_Elizondo', 'Helen_Hunt', 'Holly_Marie_Combs', 'Hugh_Grant', 'Hugh_Jackman', 'Hugo_Weaving', 'Ian_Holm', 'Ian_McKellen', 'Ilene_Kristen', 'Ioan_Gruffudd', 'J.K._Simmons', 'Jack_Nicholson', 'Jackee_Harry', 'Jackie_Chan', 'Jackson_Rathbone', 'Jaden_Smith', 'Jake_Gyllenhaal', 'Jake_Weber', 'James_Brolin', 'James_Frain', 'James_Franco', 'James_Marsden', 'James_McAvoy', 'James_Remar', 'Jamie_Foxx', 'Jamie_Lee_Curtis', 'Jamie_Luner', 'Jane_Curtin', 'Jane_Krakowski', 'Jane_Leeves', 'Jane_Lynch', 'January_Jones', 'Jared_Padalecki', 'Jasmine_Guy', 'Jason_Bateman', 'Jason_Behr', 'Jason_Biggs', 'Jason_Lee', 'Jason_Statham', 'Jason_Sudeikis', 'Jay_Baruchel', 'Jean-Claude_Van_Damme', 'Jean_Reno', 'Jeanne_Cooper', 'Jeffrey_Tambor', 'Jenilee_Harrison', 'Jennette_McCurdy', 'Jennie_Garth', 'Jennifer_Aniston', 'Jennifer_Gareis', 'Jennifer_Love_Hewitt', 'Jensen_Ackles', 'Jeremy_Irons', 'Jeremy_Sisto', 'Jerry_Seinfeld', 'Jesse_Eisenberg', 'Jessica_Biel', 'Jessica_Capshaw', 'Jessica_Leccia', 'Jet_Li', 'Jill_Eikenberry', 'Jill_Hennessy', 'Jim_Beaver', 'Jim_Carrey', 'Jim_Caviezel', 'Jimmy_Fallon', 'Joan_Collins', 'Joanna_García', 'Joanna_Kerns', 'Joaquin_Phoenix', 'Jodi_Long', 'Joe_Manganiello', 'Joe_Pantoliano', 'John_Cleese', 'John_Cusack', 'John_Krasinski', 'John_Malkovich', 'John_Noble', 'John_Travolta', 'Johnny_Depp', 'Jolene_Blalock', 'Jon_Hamm', 'Jon_Voight', 'Jonah_Hill', 'Jonathan_Rhys_Meyers', 'Jonathan_Sadowski', 'Josh_Brolin', 'Josh_Duhamel', 'Josh_Hartnett', 'Joshua_Jackson', 'Josie_Bissett', 'Joyce_DeWitt', 'Jude_Law', 'Judi_Evans', 'Judith_Light', 'Julia_Louis-Dreyfus', 'Julianna_Margulies', 'Julie_Benz', 'Julie_Bowen', 'Julie_Marie_Berman', 'Justin_Long', 'Justin_Timberlake', 'Justine_Bateman', 'Kal_Penn', 'Kaley_Cuoco', 'Karl_Urban', 'Kassie_DePaiva', 'Kate_Linder', 'Katherine_Helmond', 'Katherine_Kelly_Lang', 'Kathryn_Joosten', 'Kathy_Baker', 'Kathy_Griffin', 'Katrina_Bowden', 'Keanu_Reeves', 'Kellan_Lutz', 'Kellie_Martin', 'Ken_Watanabe', 'Kerr_Smith', 'Kevin_Bacon', 'Kevin_Connolly', 'Kevin_Costner', 'Kevin_McKidd', 'Kiefer_Sutherland', 'Kim_Cattrall', 'Kim_Delaney', 'Kim_Fields', 'Kimberlin_Brown', 'Kimberly_Matula', 'Kimberly_McCullough', 'Kirstie_Alley', 'Kit_Harington', 'Kris_Kristofferson', 'Kristen_Alderson', 'Kristen_Johnston', 'Kristian_Alfonso', 'Kristin_Chenoweth', 'Kristin_Davis', 'Kristy_McNichol', 'Lacey_Chabert', 'Lara_Flynn_Boyle', 'Laura_Innes', 'Laura_Leighton', 'Lauralee_Bell', 'Lauren_Holly', 'Lauren_Koslow', 'Laurence_Fishburne', 'Laurie_Metcalf', 'Lea_Michele', 'Lecy_Goranson', 'Leonardo_DiCaprio', 'Lesley-Anne_Down', 'Leslie_Neilsen', 'Lexi_Ainsworth', 'Liev_Schreiber', 'Linda_Evans', 'Linda_Gray', 'Lindsay_Hartley', 'Lisa_Bonet', 'Lisa_Kudrow', 'Lisa_LoCicero', 'Loni_Anderson', 'Lori_Loughlin', 'Lorraine_Bracco', 'Lourdes_Benedicto', 'Luke_Wilson', 'Mackenzie_Aladjem', 'Marcia_Cross', 'Marg_Helgenberger', 'Margaret_Cho', 'Mariel_Hemingway', 'Marilu_Henner', 'Mark_Ruffalo', 'Mark_Wahlberg', 'Martin_Henderson', 'Martin_Lawrence', 'Martin_Sheen', 'Mary_Beth_Evans', 'Mary_Crosby', 'Matt_Czuchry', 'Matt_Damon', 'Matt_Dillon', 'Matt_LeBlanc', 'Matt_Long', 'Matthew_Broderick', 'Matthew_Gray_Gubler', 'Matthew_Lillard', 'Matthew_McConaughey', 'Matthew_Perry', 'Mayim_Bialik', 'McKayla_Maroney', 'Mel_Gibson', 'Melina_Kanakaredes', 'Melissa_Archer', 'Melissa_Benoist', 'Melissa_Claire_Egan', 'Melissa_Fumero', 'Melissa_Gilbert', 'Michael_Douglas', 'Michael_Landes', 'Michael_Vartan', 'Michael_Weatherly', 'Mike_Myers', 'Mila_Kunis', 'Milo_Ventimiglia', 'Miranda_Cosgrove', 'Misha_Collins', 'Molly_Burnett', 'Morena_Baccarin', 'Nadia_Bjorlin', 'Nancy_Lee_Grahn', 'Natalia_Livingston', 'Natalie_Hall', 'Natalie_Martinez', 'Neal_McDonough', 'Neve_Campbell', 'Nick_Frost', 'Nicolas_Cage', 'Nicole_Eggert', 'Nicole_de_Boer', 'Norman_Reedus', 'Oliver_Platt', \"Olivia_d'Abo\", 'Omid_Djalili', 'Orlando_Bloom', 'Owen_Wilson', 'Pamela_Anderson', 'Pamela_Sue_Martin', 'Patricia_Arquette', 'Patricia_Kalember', 'Patrick_Dempsey', 'Patrick_Swayze', 'Patrick_Warburton', 'Paul_Bettany', 'Paul_Walker', 'Peggy_Lipton', 'Peggy_McCay', 'Peri_Gilpin', 'Peter_Sarsgaard', 'Philip_Seymour_Hoffman', 'Pierce_Brosnan', 'Portia_Doubleday', 'Portia_de_Rossi', 'Rachel_Dratch', 'Rachel_Griffiths', 'Ray_Stevenson', 'Rebecca_Budig', 'Rebecca_Herbst', 'Richard_E._Grant', 'Richard_Gere', 'Richard_Madden', 'Richard_Schiff', 'Rob_Schneider', 'Robert_Di_Niro', 'Robert_Downey_Jr.', 'Robert_Duvall', 'Robert_Knepper', 'Robert_Patrick', 'Robert_Pattinson', 'Robert_Redford', 'Robin_Williams', 'Roma_Downey', 'Roseanne_Barr', 'Rue_McClanahan', 'Rupert_Friend', 'Rupert_Grint', 'Russell_Crowe', 'Ryan_Gosling', 'Ryan_Phillippe', 'Ryan_Reynolds', 'S._Epatha_Merkerson', 'Sally_Field', 'Sam_Rockwell', 'Samuel_L._Jackson', 'Sara_Gilbert', 'Sarah_Chalke', 'Sarah_Drew', 'Sarah_Hyland', 'Sarah_Michelle_Gellar', 'Sasha_Alexander', 'Scott_Patterson', 'Sean_Bean', 'Selena_Gomez', 'Seth_Rogen', 'Shannen_Doherty', 'Shannon_Kane', 'Sharon_Case', 'Sharon_Gless', 'Shelley_Hack', 'Shelley_Hennig', 'Shelley_Long', 'Sherilyn_Fenn', 'Shia_LaBeouf', 'Shirley_Jones', 'Simon_Pegg', 'Staci_Keanan', 'Stana_Katic', 'Steve_Carell', 'Summer_Glau', 'Susan_Dey', 'Susan_Flannery', 'Susan_Lucci', 'Swoosie_Kurtz', 'T.J._Thyne', 'Tamala_Jones', 'Tamara_Braun', 'Tatyana_M._Ali', 'Taylor_Atelian', 'Taylor_Lautner', 'Tempestt_Bledsoe', 'Teri_Hatcher', 'Terry_Farrell', 'Tia_Carrere', 'Tina_Fey', 'Tina_Louise', 'Tobey_Maguire', 'Tom_Hanks', 'Tracey_E._Bregman', 'Tracey_Gold', 'Tyne_Daly', 'Valerie_Bertinelli', 'Valerie_Cruz', 'Valerie_Harper', 'Vanessa_Marcil', 'Veronica_Hamel', 'Victor_Garber', 'Victoria_Justice', 'Wanda_De_Jesus', 'Wendie_Malick', 'Woody_Allen', 'Yasmine_Bleeth', 'Zooey_Deschanel']\n"
     ]
    }
   ],
   "source": [
    "print(sorted(all_people))"
   ]
  },
  {
   "cell_type": "code",
   "execution_count": 33,
   "metadata": {},
   "outputs": [
    {
     "name": "stderr",
     "output_type": "stream",
     "text": [
      "/home/jos/anaconda3/envs/lws/lib/python3.6/site-packages/ipykernel/__main__.py:50: DeprecationWarning: `imread` is deprecated!\n",
      "`imread` is deprecated in SciPy 1.0.0, and will be removed in 1.2.0.\n",
      "Use ``imageio.imread`` instead.\n"
     ]
    },
    {
     "name": "stdout",
     "output_type": "stream",
     "text": [
      "Number of faces detected: 2\n",
      "query image shape: (250, 280, 3)\n"
     ]
    },
    {
     "name": "stderr",
     "output_type": "stream",
     "text": [
      "/home/jos/anaconda3/envs/lws/lib/python3.6/site-packages/ipykernel/__main__.py:54: DeprecationWarning: `imresize` is deprecated!\n",
      "`imresize` is deprecated in SciPy 1.0.0, and will be removed in 1.2.0.\n",
      "Use ``skimage.transform.resize`` instead.\n"
     ]
    },
    {
     "name": "stdout",
     "output_type": "stream",
     "text": [
      "Number of faces detected: 1\n",
      "query image shape: (488, 391, 3)\n",
      "Number of faces detected: 1\n",
      "query image shape: (1392, 1200, 3)\n"
     ]
    },
    {
     "ename": "IndexError",
     "evalue": "Index out of range",
     "output_type": "error",
     "traceback": [
      "\u001b[0;31m---------------------------------------------------------------------------\u001b[0m",
      "\u001b[0;31mIndexError\u001b[0m                                Traceback (most recent call last)",
      "\u001b[0;32m<ipython-input-33-d11837a90028>\u001b[0m in \u001b[0;36m<module>\u001b[0;34m()\u001b[0m\n\u001b[1;32m     51\u001b[0m             \u001b[0m_\u001b[0m\u001b[0;34m,\u001b[0m \u001b[0mfrontal\u001b[0m \u001b[0;34m=\u001b[0m \u001b[0mfrontalizer\u001b[0m\u001b[0;34m.\u001b[0m\u001b[0mtransform\u001b[0m\u001b[0;34m(\u001b[0m\u001b[0mimg\u001b[0m\u001b[0;34m)\u001b[0m\u001b[0;34m\u001b[0m\u001b[0m\n\u001b[1;32m     52\u001b[0m             \u001b[0mdets\u001b[0m \u001b[0;34m=\u001b[0m \u001b[0mdetector\u001b[0m\u001b[0;34m(\u001b[0m\u001b[0mfrontal\u001b[0m\u001b[0;34m,\u001b[0m \u001b[0;36m1\u001b[0m\u001b[0;34m)\u001b[0m\u001b[0;34m\u001b[0m\u001b[0m\n\u001b[0;32m---> 53\u001b[0;31m             \u001b[0mcropped\u001b[0m \u001b[0;34m=\u001b[0m \u001b[0mcrop_safe\u001b[0m\u001b[0;34m(\u001b[0m\u001b[0mfrontal\u001b[0m\u001b[0;34m,\u001b[0m \u001b[0mdets\u001b[0m\u001b[0;34m[\u001b[0m\u001b[0;36m0\u001b[0m\u001b[0;34m]\u001b[0m\u001b[0;34m)\u001b[0m\u001b[0;34m\u001b[0m\u001b[0m\n\u001b[0m\u001b[1;32m     54\u001b[0m             \u001b[0mimages\u001b[0m\u001b[0;34m[\u001b[0m\u001b[0mindex\u001b[0m\u001b[0;34m]\u001b[0m \u001b[0;34m=\u001b[0m \u001b[0mimresize\u001b[0m\u001b[0;34m(\u001b[0m\u001b[0mcropped\u001b[0m\u001b[0;34m,\u001b[0m \u001b[0;34m(\u001b[0m\u001b[0;36m227\u001b[0m\u001b[0;34m,\u001b[0m \u001b[0;36m227\u001b[0m\u001b[0;34m)\u001b[0m\u001b[0;34m)\u001b[0m\u001b[0;34m\u001b[0m\u001b[0m\n\u001b[1;32m     55\u001b[0m             \u001b[0mlabels_name\u001b[0m\u001b[0;34m[\u001b[0m\u001b[0mindex\u001b[0m\u001b[0;34m]\u001b[0m \u001b[0;34m=\u001b[0m \u001b[0mlabel_n\u001b[0m\u001b[0;34m\u001b[0m\u001b[0m\n",
      "\u001b[0;31mIndexError\u001b[0m: Index out of range"
     ]
    }
   ],
   "source": [
    "%matplotlib inline\n",
    "import os\n",
    "import os.path as path\n",
    "from scipy.misc import imread, imresize\n",
    "import matplotlib.pylab as plt\n",
    "import dlib\n",
    "import numpy as np\n",
    "import h5py\n",
    "detector = dlib.get_frontal_face_detector()\n",
    "\n",
    "frontalizer = Frontalizer()\n",
    "base = '/home/jos/datasets/facescrub/download'\n",
    "people = os.listdir(base)\n",
    "\n",
    "def crop_safe(img, d, factor=0.4):\n",
    "    width = d.right() - d.left()\n",
    "    height = d.bottom() - d.top()\n",
    "    left = int(d.left() - width * factor)\n",
    "    right = int(d.right() + width * factor)\n",
    "    bottom = int(d.bottom() + height * factor)\n",
    "    top = int(d.top() - height * factor)\n",
    "    left = max(0, left)\n",
    "    right = min(img.shape[1], right)\n",
    "    top = max(0, top)\n",
    "    bottom = min(img.shape[0], bottom)\n",
    "    return img[top:bottom, left:right]\n",
    "\n",
    "n_total_images = 0\n",
    "\n",
    "for person in people:\n",
    "    image_files = [fnm for fnm in os.listdir(path.join(base, person)) if '.jpg' in fnm]\n",
    "    n_total_images += len(image_files)\n",
    "\n",
    "out_shape = (n_total_images, 227, 227, 3)\n",
    "\n",
    "with h5py.File('/home/jos/datasets/facescrub/facescrub.h5', 'w') as h5f:\n",
    "    images = h5f.create_dataset('images', shape=out_shape, dtype=np.float32)\n",
    "    labels_name = h5f.create_dataset('labels/name', shape=[n_total_images, len(all_people)], dtype=np.float32)\n",
    "    labels_gender = h5f.create_dataset('labels/gender', shape=[n_total_images, 2], dtype=np.float32)\n",
    "\n",
    "    def one_hot(i, n):\n",
    "        return np.asarray([0 if j != i else 1 for j in range(n)])\n",
    "\n",
    "    index = 0\n",
    "    for person in people:\n",
    "        image_files = [fnm for fnm in os.listdir(path.join(base, person)) if '.jpg' in fnm]\n",
    "        label_n = one_hot(all_people.index(person), len(all_people))\n",
    "        label_g = one_hot(person in men, 2)\n",
    "        for fnm in image_files:\n",
    "            img = imread(path.join(base, person, fnm))\n",
    "            _, frontal = frontalizer.transform(img)\n",
    "            dets = detector(frontal, 1)\n",
    "            if len(dets) != 1:\n",
    "                print(\"failure\")\n",
    "                continue\n",
    "            cropped = crop_safe(frontal, dets[0])\n",
    "            images[index] = imresize(cropped, (227, 227))\n",
    "            labels_name[index] = label_n\n",
    "            labels_gender[index] = label_g\n",
    "            index += 1\n",
    "print(n_total_images, index)\n",
    "        \n"
   ]
  },
  {
   "cell_type": "code",
   "execution_count": 22,
   "metadata": {},
   "outputs": [],
   "source": [
    "h5f.close()"
   ]
  },
  {
   "cell_type": "code",
   "execution_count": null,
   "metadata": {},
   "outputs": [],
   "source": [
    "\n",
    "\n",
    "dets = detector(img, 1)\n",
    "\n",
    "    print(\"Number of faces detected: {}\".format(len(dets)))\n",
    "    for i, d in enumerate(dets):\n",
    "        print(\"Detection {}: Left: {} Top: {} Right: {} Bottom: {}\".format("
   ]
  }
 ],
 "metadata": {
  "kernelspec": {
   "display_name": "Python [conda env:lws]",
   "language": "python",
   "name": "conda-env-lws-py"
  },
  "language_info": {
   "codemirror_mode": {
    "name": "ipython",
    "version": 3
   },
   "file_extension": ".py",
   "mimetype": "text/x-python",
   "name": "python",
   "nbconvert_exporter": "python",
   "pygments_lexer": "ipython3",
   "version": "3.6.3"
  }
 },
 "nbformat": 4,
 "nbformat_minor": 2
}
